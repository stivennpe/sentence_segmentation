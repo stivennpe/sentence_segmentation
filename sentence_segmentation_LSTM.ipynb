{
  "nbformat": 4,
  "nbformat_minor": 0,
  "metadata": {
    "colab": {
      "name": "sentence_segmentation_LSTM.ipynb",
      "provenance": [],
      "collapsed_sections": []
    },
    "kernelspec": {
      "name": "python3",
      "display_name": "Python 3"
    },
    "language_info": {
      "name": "python"
    },
    "accelerator": "GPU"
  },
  "cells": [
    {
      "cell_type": "markdown",
      "source": [
        "#Dataset Creation"
      ],
      "metadata": {
        "id": "e8GgL5Yc0rpy"
      }
    },
    {
      "cell_type": "code",
      "source": [
        "from nltk import corpus"
      ],
      "metadata": {
        "id": "TMlb83aVQHqa"
      },
      "execution_count": 1,
      "outputs": []
    },
    {
      "cell_type": "code",
      "source": [
        "from nltk.corpus import brown, treebank\n"
      ],
      "metadata": {
        "id": "Asp83voyQhZe"
      },
      "execution_count": 131,
      "outputs": []
    },
    {
      "cell_type": "code",
      "source": [
        "import nltk\n",
        "nltk.download('brown')\n",
        "nltk.download(\"treebank\")\n",
        "nltk.download(\"punkt\")"
      ],
      "metadata": {
        "colab": {
          "base_uri": "https://localhost:8080/"
        },
        "id": "e86ga5JiSRJA",
        "outputId": "16734e71-0e7d-456a-deaa-9f1618cabdc8"
      },
      "execution_count": 120,
      "outputs": [
        {
          "output_type": "stream",
          "name": "stdout",
          "text": [
            "[nltk_data] Downloading package genesis to /root/nltk_data...\n",
            "[nltk_data]   Unzipping corpora/genesis.zip.\n"
          ]
        },
        {
          "output_type": "execute_result",
          "data": {
            "text/plain": [
              "True"
            ]
          },
          "metadata": {},
          "execution_count": 120
        }
      ]
    },
    {
      "cell_type": "code",
      "source": [
        "senti= brown.sents()\n",
        "sents2= treebank.sents()\n",
        "sents= senti+sents2\n",
        "sents=list(sents)"
      ],
      "metadata": {
        "id": "Pgktd4c8SakA"
      },
      "execution_count": 132,
      "outputs": []
    },
    {
      "cell_type": "code",
      "source": [
        "#get 10 wikipedia articles to include more options}\n",
        "!pip install wikipedia-api wikipedia\n",
        "import wikipediaapi\n",
        "\n",
        "wiki_wiki = wikipediaapi.Wikipedia(\n",
        "        language='en',\n",
        "        extract_format=wikipediaapi.ExtractFormat.WIKI\n",
        ")\n",
        "\n",
        "wiki_1 = wiki_wiki.page(\"Opsin\")\n",
        "wiki_2 = wiki_wiki.page(\"Brown Bear\")\n",
        "wiki_3 = wiki_wiki.page(\"United Kingdom\")\n",
        "wiki_4 = wiki_wiki.page(\"Spain\")\n",
        "wiki_5 = wiki_wiki.page(\"PewDiePie\")\n",
        "wiki_6 = wiki_wiki.page(\"Civil conflict in the Philippines\")\n",
        "wiki_7 = wiki_wiki.page(\"Domenico Brescia\")\n",
        "wiki_8 = wiki_wiki.page(\"Qantara, Lebanon\")\n",
        "wiki_9 = wiki_wiki.page(\"Alright, Still\")\n",
        "wiki_10 = wiki_wiki.page(\"Chesterfield F.C.\")\n",
        "wiki_11 =wiki_wiki.page(\"France\")\n",
        "wiki_12 =wiki_wiki.page(\"United States\")\n",
        "texts= [wiki_1,wiki_2,wiki_3,wiki_4,wiki_5,wiki_6,wiki_7,wiki_8,wiki_9,wiki_10]\n",
        "\n",
        "def clean(article): \n",
        "  data= article.text.split(\".\")\n",
        "  for d in data:\n",
        "    if d == \"\" or len(d)>0:\n",
        "      data.remove(d)\n",
        "    elif d== \" \":\n",
        "      data.remove(d)\n",
        "    elif \"\\n\" in d:\n",
        "      d.replace(\"\\n\", \"\")\n",
        "      \n",
        "  return data\n",
        "\n",
        "articles=[]\n",
        "\n",
        "for text in texts:\n",
        "  cleaned= clean(text)\n",
        "  articles.append(cleaned)\n",
        "\n",
        "\n",
        "import nltk\n",
        "final_articles=[]\n",
        "for article in articles:\n",
        "  for a in article:\n",
        "    tokens= nltk.tokenize.word_tokenize(a)\n",
        "    final_articles.append(tokens)\n",
        "\n",
        "\n"
      ],
      "metadata": {
        "colab": {
          "base_uri": "https://localhost:8080/"
        },
        "id": "LM2ZGZwj42dd",
        "outputId": "4dd2d5cf-86bd-46d6-f516-0825c69af72e"
      },
      "execution_count": 6,
      "outputs": [
        {
          "output_type": "stream",
          "name": "stdout",
          "text": [
            "Collecting wikipedia-api\n",
            "  Downloading Wikipedia-API-0.5.4.tar.gz (18 kB)\n",
            "Collecting wikipedia\n",
            "  Downloading wikipedia-1.4.0.tar.gz (27 kB)\n",
            "Requirement already satisfied: requests in /usr/local/lib/python3.7/dist-packages (from wikipedia-api) (2.23.0)\n",
            "Requirement already satisfied: beautifulsoup4 in /usr/local/lib/python3.7/dist-packages (from wikipedia) (4.6.3)\n",
            "Requirement already satisfied: certifi>=2017.4.17 in /usr/local/lib/python3.7/dist-packages (from requests->wikipedia-api) (2021.10.8)\n",
            "Requirement already satisfied: idna<3,>=2.5 in /usr/local/lib/python3.7/dist-packages (from requests->wikipedia-api) (2.10)\n",
            "Requirement already satisfied: urllib3!=1.25.0,!=1.25.1,<1.26,>=1.21.1 in /usr/local/lib/python3.7/dist-packages (from requests->wikipedia-api) (1.24.3)\n",
            "Requirement already satisfied: chardet<4,>=3.0.2 in /usr/local/lib/python3.7/dist-packages (from requests->wikipedia-api) (3.0.4)\n",
            "Building wheels for collected packages: wikipedia-api, wikipedia\n",
            "  Building wheel for wikipedia-api (setup.py) ... \u001b[?25l\u001b[?25hdone\n",
            "  Created wheel for wikipedia-api: filename=Wikipedia_API-0.5.4-py3-none-any.whl size=13477 sha256=089cca2baf7bbb4bd2f26ebc82e552986d6ec0594375451eefb9921350af33d4\n",
            "  Stored in directory: /root/.cache/pip/wheels/d3/24/56/58ba93cf78be162451144e7a9889603f437976ef1ae7013d04\n",
            "  Building wheel for wikipedia (setup.py) ... \u001b[?25l\u001b[?25hdone\n",
            "  Created wheel for wikipedia: filename=wikipedia-1.4.0-py3-none-any.whl size=11695 sha256=3eeaff6198240cad0a09d5b8a80ab79d81560833e5da5ab02ae20dfa513cc8ff\n",
            "  Stored in directory: /root/.cache/pip/wheels/15/93/6d/5b2c68b8a64c7a7a04947b4ed6d89fb557dcc6bc27d1d7f3ba\n",
            "Successfully built wikipedia-api wikipedia\n",
            "Installing collected packages: wikipedia-api, wikipedia\n",
            "Successfully installed wikipedia-1.4.0 wikipedia-api-0.5.4\n"
          ]
        }
      ]
    },
    {
      "cell_type": "code",
      "source": [
        "#Delete lines from wikipedia articles with no content (cause error in the model)\n",
        "for i,f in enumerate(final_articles):\n",
        "  if f == \"\" or f == \" \":\n",
        "    print(\"espacio: \", f)\n",
        "  elif len(f) <= 0:\n",
        "    del final_articles[i]\n",
        "    print(\"none: \", i, f)"
      ],
      "metadata": {
        "id": "qWUjw7OrEqRa"
      },
      "execution_count": 9,
      "outputs": []
    },
    {
      "cell_type": "code",
      "source": [
        "#Concatenate some sentences so that the model learn periods and also full stops\n",
        "\n",
        "all=[]\n",
        "for i,sent in enumerate(sents):\n",
        "  temp=[]\n",
        "  if (i % 2) == 0:\n",
        "    #even\n",
        "    temp.append(sent+sents[i+1])\n",
        "  else:\n",
        "    temp.append(sent)\n",
        "  all+=temp\n"
      ],
      "metadata": {
        "id": "Q1WKhGPcssej"
      },
      "execution_count": 145,
      "outputs": []
    },
    {
      "cell_type": "code",
      "source": [
        "#Conll tagging but with tags P: period/fullstop | C: comma | I: all the rest.\n",
        "#the function tags the word before where a comma/period is and deleted the comma/period.\n",
        "def conll_tagging(lista):\n",
        "    tagged_list=[]\n",
        "  #for char in lista:\n",
        "    temp=[]\n",
        "    for i,c in enumerate(lista):\n",
        "      if c == \".\":\n",
        "        #temp.append([c, \"P\"])\n",
        "        continue\n",
        "      if c == \",\":\n",
        "        #temp.append([c, \"C\"])\n",
        "        continue\n",
        "      if len(lista)> i+1:\n",
        "        if lista[i+1] == \".\":\n",
        "          temp.append([lista[i], \"P\"])\n",
        "        elif lista[i+1] == \",\":\n",
        "          temp.append([lista[i], \"C\"])\n",
        "        else:\n",
        "          temp.append([c, \"I\"])\n",
        "      else:\n",
        "        temp.append([c, \"I\"])\n",
        "\n",
        "    tagged_list.append(temp)\n",
        "    return tagged_list"
      ],
      "metadata": {
        "id": "2F6Y2ZI_iXBo"
      },
      "execution_count": 41,
      "outputs": []
    },
    {
      "cell_type": "code",
      "source": [
        "final_list= final_articles +sents\n",
        "\n",
        "def build_dataset(final):\n",
        "  total=[]\n",
        "  for sent in final:\n",
        "    exa= conll_tagging(sent)\n",
        "    sent=[]\n",
        "    tempa=[]\n",
        "    for f in exa:\n",
        "      temp=[]\n",
        "      for t in f:\n",
        "        sent.append(t[0])\n",
        "        tempa.append(t[1])\n",
        "    if len(sent) == len(tempa):\n",
        "      total.append([sent, tempa])\n",
        "    else:\n",
        "      continue\n",
        "  return total\n",
        "\n",
        "total=build_dataset(final_list)"
      ],
      "metadata": {
        "id": "B4Ll2-BKiaXN"
      },
      "execution_count": 150,
      "outputs": []
    },
    {
      "cell_type": "code",
      "source": [
        "'''\n",
        "Write a file on CONLL format in .txt with all the lists\n",
        "'''\n",
        "from tqdm import tqdm\n",
        "with open(\"brown_char.tsv\", \"a+\") as f:\n",
        "\n",
        "  for i in tqdm(range(len(total)),desc=\"Loading…\",ascii=False, ncols=100):\n",
        "    sent=\" \".join(total[i][0])\n",
        "    tag=\" \".join(total[i][1])\n",
        "    f.write(sent+\"\\t\"+tag+\"\\n\")"
      ],
      "metadata": {
        "colab": {
          "base_uri": "https://localhost:8080/"
        },
        "id": "r_z8SzyH46VZ",
        "outputId": "d21b4ddc-9a4d-4754-a650-2ad07071caea"
      },
      "execution_count": 151,
      "outputs": [
        {
          "output_type": "stream",
          "name": "stderr",
          "text": [
            "Loading…: 100%|███████████████████████████████████████████| 62765/62765 [00:00<00:00, 323584.21it/s]\n"
          ]
        }
      ]
    },
    {
      "cell_type": "code",
      "source": [
        "with open(\"brown_char.tsv\", \"r\") as f:\n",
        "  filea= f.readlines()\n",
        "\n",
        "#Total number of characters tagged.\n",
        "print(len(filea))\n"
      ],
      "metadata": {
        "colab": {
          "base_uri": "https://localhost:8080/"
        },
        "id": "JID3b3FB2u8R",
        "outputId": "ae89a6ec-6de6-43f4-ddb9-deef56068e70"
      },
      "execution_count": 153,
      "outputs": [
        {
          "output_type": "stream",
          "name": "stdout",
          "text": [
            "62765\n"
          ]
        }
      ]
    },
    {
      "cell_type": "code",
      "source": [
        "'''\n",
        "Example of annotated sentences:\n",
        "\n",
        "Sent= ['they', 'had', 'won', 'promotion', 'the', 'previous', 'season', 'the', 'first' 'Welsh','team']\n",
        "tag= [\"I\", \"I\",\"I\",\"I\",\"I\",\"I\",\"C\",\"I\",\"I\",\"P\"]\n",
        "\"they had won promotion the previous season, the first Welsh team.\" \n",
        "\n",
        "'''"
      ],
      "metadata": {
        "colab": {
          "base_uri": "https://localhost:8080/"
        },
        "id": "53BZXz6HDVjf",
        "outputId": "c2c83869-b02f-4fa8-847b-c022a78c20e5"
      },
      "execution_count": null,
      "outputs": [
        {
          "output_type": "execute_result",
          "data": {
            "text/plain": [
              "0"
            ]
          },
          "metadata": {},
          "execution_count": 45
        }
      ]
    },
    {
      "cell_type": "markdown",
      "source": [
        "#LSMT"
      ],
      "metadata": {
        "id": "JwkLp8Vcbfj0"
      }
    },
    {
      "cell_type": "code",
      "source": [
        "!pip install pytorch torchtext==0.10.0"
      ],
      "metadata": {
        "colab": {
          "base_uri": "https://localhost:8080/"
        },
        "id": "2cw2BOnILHJI",
        "outputId": "34aa67a8-9e17-497f-b01e-1966a0bbb202"
      },
      "execution_count": 1,
      "outputs": [
        {
          "output_type": "stream",
          "name": "stdout",
          "text": [
            "Collecting pytorch\n",
            "  Using cached pytorch-1.0.2.tar.gz (689 bytes)\n",
            "Requirement already satisfied: torchtext==0.10.0 in /usr/local/lib/python3.7/dist-packages (0.10.0)\n",
            "Requirement already satisfied: numpy in /usr/local/lib/python3.7/dist-packages (from torchtext==0.10.0) (1.21.6)\n",
            "Requirement already satisfied: torch==1.9.0 in /usr/local/lib/python3.7/dist-packages (from torchtext==0.10.0) (1.9.0)\n",
            "Requirement already satisfied: tqdm in /usr/local/lib/python3.7/dist-packages (from torchtext==0.10.0) (4.64.0)\n",
            "Requirement already satisfied: requests in /usr/local/lib/python3.7/dist-packages (from torchtext==0.10.0) (2.23.0)\n",
            "Requirement already satisfied: typing-extensions in /usr/local/lib/python3.7/dist-packages (from torch==1.9.0->torchtext==0.10.0) (4.2.0)\n",
            "Requirement already satisfied: idna<3,>=2.5 in /usr/local/lib/python3.7/dist-packages (from requests->torchtext==0.10.0) (2.10)\n",
            "Requirement already satisfied: chardet<4,>=3.0.2 in /usr/local/lib/python3.7/dist-packages (from requests->torchtext==0.10.0) (3.0.4)\n",
            "Requirement already satisfied: certifi>=2017.4.17 in /usr/local/lib/python3.7/dist-packages (from requests->torchtext==0.10.0) (2021.10.8)\n",
            "Requirement already satisfied: urllib3!=1.25.0,!=1.25.1,<1.26,>=1.21.1 in /usr/local/lib/python3.7/dist-packages (from requests->torchtext==0.10.0) (1.24.3)\n",
            "Building wheels for collected packages: pytorch\n",
            "  Building wheel for pytorch (setup.py) ... \u001b[?25lerror\n",
            "\u001b[31m  ERROR: Failed building wheel for pytorch\u001b[0m\n",
            "\u001b[?25h  Running setup.py clean for pytorch\n",
            "Failed to build pytorch\n",
            "Installing collected packages: pytorch\n",
            "    Running setup.py install for pytorch ... \u001b[?25l\u001b[?25herror\n",
            "\u001b[31mERROR: Command errored out with exit status 1: /usr/bin/python3 -u -c 'import io, os, sys, setuptools, tokenize; sys.argv[0] = '\"'\"'/tmp/pip-install-jr4f45l5/pytorch_dc60e5affb424a14b2b6991b9f36c0b6/setup.py'\"'\"'; __file__='\"'\"'/tmp/pip-install-jr4f45l5/pytorch_dc60e5affb424a14b2b6991b9f36c0b6/setup.py'\"'\"';f = getattr(tokenize, '\"'\"'open'\"'\"', open)(__file__) if os.path.exists(__file__) else io.StringIO('\"'\"'from setuptools import setup; setup()'\"'\"');code = f.read().replace('\"'\"'\\r\\n'\"'\"', '\"'\"'\\n'\"'\"');f.close();exec(compile(code, __file__, '\"'\"'exec'\"'\"'))' install --record /tmp/pip-record-ma64mehn/install-record.txt --single-version-externally-managed --compile --install-headers /usr/local/include/python3.7/pytorch Check the logs for full command output.\u001b[0m\n"
          ]
        }
      ]
    },
    {
      "cell_type": "code",
      "source": [
        "!pip install pytorch-crf\n",
        "\n",
        "import time\n",
        "import torch\n",
        "from torch import nn\n",
        "from torch.optim import Adam\n",
        "from torchtext.vocab import Vocab\n",
        "\n",
        "import torch\n",
        "import torch.nn as nn\n",
        "import torch.optim as optim\n",
        "\n",
        "from torchtext import data\n",
        "from torchtext import datasets\n",
        "\n",
        "import spacy\n",
        "from torchcrf import CRF\n",
        "import numpy as np\n",
        "import pandas as pd\n",
        "\n",
        "import time\n",
        "import random\n",
        "import string\n",
        "from itertools import chain"
      ],
      "metadata": {
        "colab": {
          "base_uri": "https://localhost:8080/"
        },
        "id": "jn4w3V9L7-4w",
        "outputId": "83816f6f-01c2-433b-fd1e-f1476c33f08c"
      },
      "execution_count": 2,
      "outputs": [
        {
          "output_type": "stream",
          "name": "stdout",
          "text": [
            "Requirement already satisfied: pytorch-crf in /usr/local/lib/python3.7/dist-packages (0.7.2)\n"
          ]
        }
      ]
    },
    {
      "cell_type": "code",
      "source": [
        "import torch\n",
        "from torchtext.legacy import data\n",
        "from tqdm import tqdm\n",
        "import random\n",
        "import numpy as np\n",
        "\n",
        "SEED = 1234\n",
        "\n",
        "random.seed(SEED)\n",
        "np.random.seed(SEED)\n",
        "torch.manual_seed(SEED)\n",
        "torch.backends.cudnn.deterministic = True\n",
        "\n",
        "#No lower to use capitals as a feature\n",
        "TEXT = data.Field(lower = False)\n",
        "TAG = data.Field(unk_token = None) \n"
      ],
      "metadata": {
        "id": "4XqL0Fq6be1Z"
      },
      "execution_count": 3,
      "outputs": []
    },
    {
      "cell_type": "code",
      "source": [
        "fields = [('text', TEXT),('label', TAG)]\n",
        "\n",
        "train_data = data.TabularDataset(\n",
        "    path=\"/content/brown_char.tsv\",\n",
        "    format='tsv',\n",
        "    fields=fields,\n",
        "    skip_header= False,\n",
        ")"
      ],
      "metadata": {
        "id": "zPigsi_sMBtR"
      },
      "execution_count": 4,
      "outputs": []
    },
    {
      "cell_type": "code",
      "source": [
        "#Test split\n",
        "import random\n",
        "train_data, test_data = train_data.split(split_ratio=0.7, random_state = random.seed(SEED))"
      ],
      "metadata": {
        "id": "NZZhmYUXgPaN"
      },
      "execution_count": 6,
      "outputs": []
    },
    {
      "cell_type": "code",
      "source": [
        "#Validation Split\n",
        "train_data, valid_data = train_data.split(random_state = random.seed(42))"
      ],
      "metadata": {
        "id": "vdVYqD0IhSab"
      },
      "execution_count": 7,
      "outputs": []
    },
    {
      "cell_type": "code",
      "source": [
        "print(vars(train_data.examples[5]))"
      ],
      "metadata": {
        "colab": {
          "base_uri": "https://localhost:8080/"
        },
        "id": "v-Kmg6ejlQS8",
        "outputId": "22f87a4b-8c09-46c1-bc2e-d64305fabfd7"
      },
      "execution_count": 8,
      "outputs": [
        {
          "output_type": "stream",
          "name": "stdout",
          "text": [
            "{'text': ['At', 'one', 'point', 'Hammersmith', 'is', 'reported', '*-1', 'to', 'have', 'accounted', 'for', 'as', 'much', 'as', '10', '%', 'of', 'the', 'sterling', 'market', 'in', 'interest-rate', 'swap', 'dealings'], 'label': ['I', 'I', 'C', 'I', 'I', 'I', 'I', 'I', 'I', 'I', 'I', 'I', 'I', 'I', 'I', 'I', 'I', 'I', 'I', 'I', 'I', 'I', 'I', 'P']}\n"
          ]
        }
      ]
    },
    {
      "cell_type": "code",
      "source": [
        "MIN_FREQ= 0 #To use all of the features\n",
        "TEXT.build_vocab(train_data, \n",
        "                 min_freq = MIN_FREQ,\n",
        "                 vectors = \"glove.6B.100d\", #pretrained embeddings 100 dimensions\n",
        "                 unk_init = torch.Tensor.normal_)\n",
        "\n",
        "\n",
        "TAG.build_vocab(train_data)"
      ],
      "metadata": {
        "id": "smIeUj9khZb3"
      },
      "execution_count": 9,
      "outputs": []
    },
    {
      "cell_type": "code",
      "source": [
        "#Adding an \"O\" tag for the metrics.\n",
        "TAG.vocab.itos.insert(4, \"O\")\n",
        "TAG.vocab.stoi[\"O\"]= 4"
      ],
      "metadata": {
        "id": "egh8Q4EMVE2-"
      },
      "execution_count": 10,
      "outputs": []
    },
    {
      "cell_type": "code",
      "source": [
        "#to use the GPU\n",
        "device = torch.device('cuda' if torch.cuda.is_available() else 'cpu')"
      ],
      "metadata": {
        "id": "yB9kpZ0OhgOx"
      },
      "execution_count": 13,
      "outputs": []
    },
    {
      "cell_type": "code",
      "source": [
        "BATCH_SIZE = 32\n",
        "train_iterator, valid_iterator, test_iterator = data.BucketIterator.splits(\n",
        "    (train_data, valid_data, test_data), \n",
        "    batch_size = BATCH_SIZE, \n",
        "    device = device,\n",
        "    sort=False    )"
      ],
      "metadata": {
        "id": "k1qyzM52hjRS"
      },
      "execution_count": 14,
      "outputs": []
    },
    {
      "cell_type": "code",
      "source": [
        "# padding index\n",
        "text_pad_id= TEXT.vocab.stoi[TEXT.pad_token]  \n",
        "tag_pad_id= TAG.vocab.stoi[TAG.pad_token]"
      ],
      "metadata": {
        "id": "T4dKaebamv3T"
      },
      "execution_count": 15,
      "outputs": []
    },
    {
      "cell_type": "code",
      "source": [
        "class BiLSTMSEG(nn.Module):\n",
        "    def __init__(self, \n",
        "                 input_dim, \n",
        "                 embedding_dim, \n",
        "                 hidden_dim, \n",
        "                 output_dim, \n",
        "                 n_layers, \n",
        "                 bidirectional, \n",
        "                 dropout, \n",
        "                 pad_idx):\n",
        "        \n",
        "        super().__init__()\n",
        "        \n",
        "        self.embedding = nn.Embedding(input_dim, embedding_dim, padding_idx = pad_idx)\n",
        "        \n",
        "        self.lstm = nn.LSTM(embedding_dim, \n",
        "                            hidden_dim, \n",
        "                            num_layers = n_layers, \n",
        "                            bidirectional = bidirectional,\n",
        "                            dropout = dropout if n_layers > 1 else 0)\n",
        "        \n",
        "        self.fc = nn.Linear(hidden_dim * 2 if bidirectional else hidden_dim, output_dim)\n",
        "        \n",
        "        self.dropout = nn.Dropout(dropout)\n",
        "        \n",
        "    def forward(self, text):\n",
        "\n",
        "        #text = [sent len, batch size]\n",
        "        embedded = self.dropout(self.embedding(text)) \n",
        "        #embedded = [sent len, batch size, emb dim]\n",
        "        \n",
        "        outputs, (hidden, cell) = self.lstm(embedded)\n",
        "        #output = [sent len, batch size, hid dim * n directions]\n",
        "        #hidden/cell = [n layers * n directions, batch size, hid dim]\n",
        "   \n",
        "        predictions = self.fc(self.dropout(outputs))\n",
        "        #predictions = [sent len, batch size, output dim]\n",
        "        \n",
        "        return predictions"
      ],
      "metadata": {
        "id": "o8f2gLF8kqOj"
      },
      "execution_count": 16,
      "outputs": []
    },
    {
      "cell_type": "code",
      "source": [
        "INPUT_DIM = len(TEXT.vocab)\n",
        "EMBEDDING_DIM = 100 #Same as GLOVE pretrained embeddings\n",
        "HIDDEN_DIM = 128\n",
        "OUTPUT_DIM = len(TAG.vocab)\n",
        "N_LAYERS = 2\n",
        "BIDIRECTIONAL = True\n",
        "DROPOUT = 0.5\n",
        "PAD_IDX = TEXT.vocab.stoi[TEXT.pad_token]\n",
        "\n",
        "model = BiLSTMSEG(INPUT_DIM, \n",
        "                        EMBEDDING_DIM, \n",
        "                        HIDDEN_DIM, \n",
        "                        OUTPUT_DIM, \n",
        "                        N_LAYERS, \n",
        "                        BIDIRECTIONAL, \n",
        "                        DROPOUT, \n",
        "                        PAD_IDX)\n",
        "def init_weights(m):\n",
        "    for name, param in m.named_parameters():\n",
        "        nn.init.normal_(param.data, mean = 0, std = 0.1)\n",
        "        \n",
        "model.apply(init_weights)\n",
        "#Use of glove pretrained embeddings\n",
        "pretrained_embeddings = TEXT.vocab.vectors\n",
        "model.embedding.weight.data.copy_(pretrained_embeddings)\n",
        "model.embedding.weight.data[PAD_IDX] = torch.zeros(EMBEDDING_DIM)\n",
        "\n"
      ],
      "metadata": {
        "id": "rkSCjtQ3oJV2"
      },
      "execution_count": 17,
      "outputs": []
    },
    {
      "cell_type": "code",
      "source": [
        "\n",
        "def optimizer(model, lr=1e-4, eps=1e-6, weight_decay_rate=0.001, second_weight_decay_rate=0.0):\n",
        "    param_optimizer = list(model.named_parameters())\n",
        "    no_decay = ['bias', 'gamma', 'beta']\n",
        "    optimizer_grouped_parameters = [\n",
        "        {'params': [p for n, p in param_optimizer if not any(nd in n for nd in no_decay)],\n",
        "            'weight_decay_rate': weight_decay_rate},\n",
        "        {'params': [p for n, p in param_optimizer if any(nd in n for nd in no_decay)],\n",
        "            'weight_decay_rate': second_weight_decay_rate}]\n",
        "    return optim.Adam(\n",
        "        optimizer_grouped_parameters,\n",
        "        lr=lr,\n",
        "        eps=eps\n",
        "    )\n",
        "\n",
        "optimizer = optimizer(model, lr=1e-4, eps=1e-6, weight_decay_rate=0.001, second_weight_decay_rate=0.0)\n",
        "scheduler = optim.lr_scheduler.StepLR(optimizer, step_size=10, gamma=0.5)\n",
        "TAG_PAD_IDX = TAG.vocab.stoi[TAG.pad_token]\n",
        "criterion = nn.CrossEntropyLoss(ignore_index = TAG_PAD_IDX)\n",
        "\n",
        "model = model.to(device)\n",
        "criterion = criterion.to(device)"
      ],
      "metadata": {
        "id": "DcMRFBjzo69i"
      },
      "execution_count": 18,
      "outputs": []
    },
    {
      "cell_type": "code",
      "source": [
        "from sklearn.metrics import f1_score, classification_report\n",
        "\n",
        "def f1_loss( preds, y, tag_pad_idx, full_report=False):\n",
        "    index_o = TAG.vocab.stoi[\"O\"]\n",
        "\n",
        "    positive_labels = [i for i in range(len(TAG.vocab.itos))\n",
        "                       if i not in (tag_pad_idx, index_o)]\n",
        "    _, pred = torch.max(preds, 1)\n",
        "    flatten_preds = pred.data.cpu().numpy() \n",
        "    flatten_y = y.data.cpu().numpy()\n",
        "    if full_report:\n",
        "  \n",
        "        positive_names = [TAG.vocab.itos[i]\n",
        "                              for i in range(len(TAG.vocab.itos))\n",
        "                              if i not in (tag_pad_idx, index_o)]\n",
        "        print(classification_report(\n",
        "                y_true=flatten_y,\n",
        "                y_pred=flatten_preds,\n",
        "                labels=positive_labels,\n",
        "                target_names=positive_names\n",
        "            ))\n",
        "    return f1_score(\n",
        "            y_true=flatten_y,\n",
        "            y_pred=flatten_preds,\n",
        "            labels=positive_labels,\n",
        "            average=\"micro\"\n",
        "        ), flatten_preds, flatten_y"
      ],
      "metadata": {
        "id": "BkAFFaW3sKMX"
      },
      "execution_count": 19,
      "outputs": []
    },
    {
      "cell_type": "code",
      "source": [
        "def train(model, iterator, optimizer, criterion, tag_pad_idx):\n",
        "     \n",
        "    epoch_loss = 0\n",
        "    epoch_f1 = 0\n",
        "      \n",
        "    model.train()\n",
        "    \n",
        "    for batch in iterator:\n",
        "        \n",
        "        text = batch.text\n",
        "        tags = batch.label\n",
        "\n",
        "        optimizer.zero_grad()\n",
        "        \n",
        "        #text = [sent len, batch size]\n",
        "        \n",
        "        predictions = model(text)\n",
        "        \n",
        "        #predictions = [sent len, batch size, output dim]\n",
        "        #tags = [sent len, batch size]\n",
        "        \n",
        "        predictions = predictions.view(-1, predictions.shape[-1])\n",
        "        tags = tags.view(-1)\n",
        "        \n",
        "        #predictions = [sent len * batch size, output dim]\n",
        "        #tags = [sent len * batch size]\n",
        "        \n",
        "        loss = criterion(predictions, tags)\n",
        "\n",
        "        \n",
        "        f1,_,_ = f1_loss(predictions, tags, tag_pad_idx, full_report=False)\n",
        "        \n",
        "        loss.backward()\n",
        "        \n",
        "        optimizer.step()\n",
        "\n",
        "        epoch_loss += loss.item()\n",
        "        epoch_f1 += f1.item()\n",
        "        \n",
        "    return epoch_loss / len(iterator), epoch_f1 / len(iterator)"
      ],
      "metadata": {
        "id": "nrqKzpf6Asvs"
      },
      "execution_count": 20,
      "outputs": []
    },
    {
      "cell_type": "code",
      "source": [
        "def evaluate(model, iterator, criterion, tag_pad_idx, full_report):\n",
        "    \n",
        "    epoch_loss = 0\n",
        "    epoch_f1 = 0\n",
        "    \n",
        "    model.eval()\n",
        "    preds = []\n",
        "    labels = []\n",
        "    with torch.no_grad():\n",
        "    \n",
        "        for batch in iterator:\n",
        "\n",
        "            text = batch.text\n",
        "            tags = batch.label\n",
        "            \n",
        "            predictions = model(text)\n",
        "            \n",
        "            predictions = predictions.view(-1, predictions.shape[-1])\n",
        "            tags = tags.view(-1)\n",
        "            \n",
        "            loss = criterion(predictions, tags)\n",
        "            \n",
        "            \n",
        "            f1, _, _ = f1_loss(predictions, tags, tag_pad_idx, full_report)\n",
        "            _, pred = torch.max(predictions, 1)\n",
        "            flatten_preds = pred.data.cpu().numpy() \n",
        "            flatten_y = tags.data.cpu().numpy()\n",
        "            preds.append(flatten_preds)\n",
        "            labels.append(flatten_y)\n",
        "            epoch_loss += loss.item()\n",
        "            epoch_f1 += f1.item()\n",
        "        \n",
        "    return epoch_loss / len(iterator), epoch_f1 / len(iterator), preds, labels\n"
      ],
      "metadata": {
        "id": "WhDqDa3xmem8"
      },
      "execution_count": 21,
      "outputs": []
    },
    {
      "cell_type": "code",
      "source": [
        "def epoch_time(start_time, end_time):\n",
        "    elapsed_time = end_time - start_time\n",
        "    elapsed_mins = int(elapsed_time / 60)\n",
        "    elapsed_secs = int(elapsed_time - (elapsed_mins * 60))\n",
        "    return elapsed_mins, elapsed_secs\n",
        "\n",
        "N_EPOCHS = 50\n",
        "\n",
        "t_loss = []\n",
        "t_f1 = []\n",
        "v_loss = []\n",
        "v_f1 = []\n",
        "\n",
        "best_valid_loss = float('inf')\n",
        "\n",
        "for epoch in range(N_EPOCHS):\n",
        "\n",
        "    start_time = time.time()\n",
        "   \n",
        "    \n",
        "    train_loss, train_f1 = train(model, train_iterator, optimizer, criterion, TAG_PAD_IDX)\n",
        "    t_loss.append(train_loss)\n",
        "    t_f1.append(train_f1) \n",
        "    \n",
        "    valid_loss, valid_f1,_,_ = evaluate(model, valid_iterator, criterion, TAG_PAD_IDX, full_report= False)\n",
        "    v_loss.append(valid_loss)\n",
        "    v_f1.append(valid_f1)\n",
        "    \n",
        "    scheduler.step()\n",
        "    end_time = time.time()\n",
        "\n",
        "    epoch_mins, epoch_secs = epoch_time(start_time, end_time)\n",
        "    \n",
        "    if valid_loss < best_valid_loss:\n",
        "        best_valid_loss = valid_loss\n",
        "        torch.save(model.state_dict(), 'sentence_segmenter.pt')\n",
        "    \n",
        "\n",
        "    if epoch%10 == 0: \n",
        "        print(f'Epoch: {epoch+1:02} | Epoch Time: {epoch_mins}m {epoch_secs}s')\n",
        "        print(f'\\tTrain Loss: {train_loss:.3f} | Train F1 score: {train_f1*100:.2f}%')\n",
        "        print(f'\\t Val. Loss: {valid_loss:.3f} |  Val. F1 score: {valid_f1*100:.2f}%')\n"
      ],
      "metadata": {
        "id": "TQUDmamP9q96",
        "colab": {
          "base_uri": "https://localhost:8080/"
        },
        "outputId": "93e5968b-d93e-4b69-89a8-8b26730edda1"
      },
      "execution_count": 22,
      "outputs": [
        {
          "output_type": "stream",
          "name": "stdout",
          "text": [
            "Epoch: 01 | Epoch Time: 0m 32s\n",
            "\tTrain Loss: 0.367 | Train F1 score: 48.51%\n",
            "\t Val. Loss: 0.274 |  Val. F1 score: 49.57%\n",
            "Epoch: 11 | Epoch Time: 0m 20s\n",
            "\tTrain Loss: 0.191 | Train F1 score: 50.59%\n",
            "\t Val. Loss: 0.177 |  Val. F1 score: 50.60%\n",
            "Epoch: 21 | Epoch Time: 0m 20s\n",
            "\tTrain Loss: 0.177 | Train F1 score: 50.76%\n",
            "\t Val. Loss: 0.167 |  Val. F1 score: 50.73%\n",
            "Epoch: 31 | Epoch Time: 0m 20s\n",
            "\tTrain Loss: 0.172 | Train F1 score: 50.41%\n",
            "\t Val. Loss: 0.164 |  Val. F1 score: 50.78%\n",
            "Epoch: 41 | Epoch Time: 0m 20s\n",
            "\tTrain Loss: 0.171 | Train F1 score: 50.62%\n",
            "\t Val. Loss: 0.161 |  Val. F1 score: 50.81%\n"
          ]
        }
      ]
    },
    {
      "cell_type": "code",
      "source": [
        "import seaborn as sns\n",
        "import matplotlib.pyplot as plt \n",
        "import numpy as np \n",
        "sns.set()\n",
        "\n",
        "x = np.linspace(0, N_EPOCHS,N_EPOCHS)\n",
        "\n",
        "plt.plot(x,t_loss)\n",
        "plt.plot(x,v_loss)\n",
        "plt.title(\"Loss\")\n",
        "plt.legend([\"Train loss\", \"Valid loss\"])"
      ],
      "metadata": {
        "id": "O-cQAcPc92yv",
        "colab": {
          "base_uri": "https://localhost:8080/",
          "height": 301
        },
        "outputId": "0819436a-0687-4d77-e4c5-2e1fb0a8f8cd"
      },
      "execution_count": 41,
      "outputs": [
        {
          "output_type": "execute_result",
          "data": {
            "text/plain": [
              "<matplotlib.legend.Legend at 0x7efe28d4e210>"
            ]
          },
          "metadata": {},
          "execution_count": 41
        },
        {
          "output_type": "display_data",
          "data": {
            "text/plain": [
              "<Figure size 432x288 with 1 Axes>"
            ],
            "image/png": "[encoded data removed]"
          },
          "metadata": {}
        }
      ]
    },
    {
      "cell_type": "code",
      "source": [
        "x = np.linspace(0, N_EPOCHS,N_EPOCHS)\n",
        "\n",
        "plt.plot(x,t_f1)\n",
        "plt.plot(x,v_f1)\n",
        "plt.title(\"F1 score\")\n",
        "plt.legend([\"Train F1\", \"Valid F1\"])"
      ],
      "metadata": {
        "id": "F-K8hy1Ve-DO",
        "colab": {
          "base_uri": "https://localhost:8080/",
          "height": 301
        },
        "outputId": "b0de069a-ca15-459e-91a5-138e8843f2b0"
      },
      "execution_count": 42,
      "outputs": [
        {
          "output_type": "execute_result",
          "data": {
            "text/plain": [
              "<matplotlib.legend.Legend at 0x7efd7f2ea3d0>"
            ]
          },
          "metadata": {},
          "execution_count": 42
        },
        {
          "output_type": "display_data",
          "data": {
            "text/plain": [
              "<Figure size 432x288 with 1 Axes>"
            ],
            "image/png": "[encoded data removed]"
          },
          "metadata": {}
        }
      ]
    },
    {
      "cell_type": "code",
      "source": [
        "from sklearn.metrics import confusion_matrix, precision_recall_fscore_support\n",
        "model.load_state_dict(torch.load('sentence_segmenter.pt'))\n",
        "\n",
        "test_loss, test_f1, preds, labels = evaluate(model, test_iterator, criterion, TAG_PAD_IDX,full_report=False)\n",
        "print(f'Test Loss: {test_loss:.3f} |  Test F1 score: {test_f1*100:.2f}%')"
      ],
      "metadata": {
        "id": "cry-JWCvTkXw",
        "colab": {
          "base_uri": "https://localhost:8080/"
        },
        "outputId": "2f1e080f-b41e-416a-849e-383b73746576"
      },
      "execution_count": 43,
      "outputs": [
        {
          "output_type": "stream",
          "name": "stdout",
          "text": [
            "Test Loss: 0.162 |  Test F1 score: 50.90%\n"
          ]
        }
      ]
    },
    {
      "cell_type": "code",
      "source": [
        "predict =  [item for sublist in preds for item in sublist]\n",
        "true =  [item for sublist in labels for item in sublist]\n",
        "confusion = confusion_matrix(true, predict)"
      ],
      "metadata": {
        "id": "avQp-5uffCbI"
      },
      "execution_count": 26,
      "outputs": []
    },
    {
      "cell_type": "code",
      "source": [
        "confusion"
      ],
      "metadata": {
        "colab": {
          "base_uri": "https://localhost:8080/"
        },
        "id": "Ld3QAdYXp92J",
        "outputId": "55f975f3-a59b-4a83-ab31-51948e390f34"
      },
      "execution_count": 27,
      "outputs": [
        {
          "output_type": "execute_result",
          "data": {
            "text/plain": [
              "array([[     0,     29,      0, 935936],\n",
              "       [     0, 469628,   2505,   1906],\n",
              "       [     0,  23874,   4957,    525],\n",
              "       [     0,   1608,    205,  22238]])"
            ]
          },
          "metadata": {},
          "execution_count": 27
        }
      ]
    },
    {
      "cell_type": "code",
      "source": [
        "TAG.vocab.stoi"
      ],
      "metadata": {
        "id": "mo6jywwjjixe",
        "colab": {
          "base_uri": "https://localhost:8080/"
        },
        "outputId": "cea011b6-8b46-4db1-9049-a56202c9824f"
      },
      "execution_count": 28,
      "outputs": [
        {
          "output_type": "execute_result",
          "data": {
            "text/plain": [
              "defaultdict(None, {'<pad>': 0, 'C': 2, 'I': 1, 'O': 4, 'P': 3})"
            ]
          },
          "metadata": {},
          "execution_count": 28
        }
      ]
    },
    {
      "cell_type": "code",
      "source": [
        "from sklearn.metrics import accuracy_score, classification_report, confusion_matrix\n",
        "\n",
        "print('Classification Report:')\n",
        "print(classification_report(true, predict, labels=[4, 3, 2, 1], digits=4))\n",
        "    \n",
        "cm = confusion_matrix(true, predict, labels=[4, 3, 2, 1])\n",
        "ax= plt.subplot()\n",
        "sns.heatmap(cm, annot=True, ax = ax, cmap='Blues', fmt=\"d\")"
      ],
      "metadata": {
        "id": "K1rooQhmjvw9",
        "colab": {
          "base_uri": "https://localhost:8080/",
          "height": 722
        },
        "outputId": "daaae83d-bba1-401c-c2b9-fe91108a2c97"
      },
      "execution_count": 29,
      "outputs": [
        {
          "output_type": "stream",
          "name": "stdout",
          "text": [
            "Classification Report:\n"
          ]
        },
        {
          "output_type": "stream",
          "name": "stderr",
          "text": [
            "/usr/local/lib/python3.7/dist-packages/sklearn/metrics/_classification.py:1318: UndefinedMetricWarning: Precision and F-score are ill-defined and being set to 0.0 in labels with no predicted samples. Use `zero_division` parameter to control this behavior.\n",
            "  _warn_prf(average, modifier, msg_start, len(result))\n",
            "/usr/local/lib/python3.7/dist-packages/sklearn/metrics/_classification.py:1318: UndefinedMetricWarning: Recall and F-score are ill-defined and being set to 0.0 in labels with no true samples. Use `zero_division` parameter to control this behavior.\n",
            "  _warn_prf(average, modifier, msg_start, len(result))\n",
            "/usr/local/lib/python3.7/dist-packages/sklearn/metrics/_classification.py:1318: UndefinedMetricWarning: Precision and F-score are ill-defined and being set to 0.0 in labels with no predicted samples. Use `zero_division` parameter to control this behavior.\n",
            "  _warn_prf(average, modifier, msg_start, len(result))\n",
            "/usr/local/lib/python3.7/dist-packages/sklearn/metrics/_classification.py:1318: UndefinedMetricWarning: Recall and F-score are ill-defined and being set to 0.0 in labels with no true samples. Use `zero_division` parameter to control this behavior.\n",
            "  _warn_prf(average, modifier, msg_start, len(result))\n",
            "/usr/local/lib/python3.7/dist-packages/sklearn/metrics/_classification.py:1318: UndefinedMetricWarning: Precision and F-score are ill-defined and being set to 0.0 in labels with no predicted samples. Use `zero_division` parameter to control this behavior.\n",
            "  _warn_prf(average, modifier, msg_start, len(result))\n",
            "/usr/local/lib/python3.7/dist-packages/sklearn/metrics/_classification.py:1318: UndefinedMetricWarning: Recall and F-score are ill-defined and being set to 0.0 in labels with no true samples. Use `zero_division` parameter to control this behavior.\n",
            "  _warn_prf(average, modifier, msg_start, len(result))\n"
          ]
        },
        {
          "output_type": "stream",
          "name": "stdout",
          "text": [
            "              precision    recall  f1-score   support\n",
            "\n",
            "           4     0.0000    0.0000    0.0000         0\n",
            "           3     0.0231    0.9246    0.0452     24051\n",
            "           2     0.6465    0.1689    0.2678     29356\n",
            "           1     0.9485    0.9907    0.9691    474039\n",
            "\n",
            "   micro avg     0.3395    0.9419    0.4991    527446\n",
            "   macro avg     0.4045    0.5210    0.3205    527446\n",
            "weighted avg     0.8895    0.9419    0.8880    527446\n",
            "\n"
          ]
        },
        {
          "output_type": "execute_result",
          "data": {
            "text/plain": [
              "<matplotlib.axes._subplots.AxesSubplot at 0x7efd863fc3d0>"
            ]
          },
          "metadata": {},
          "execution_count": 29
        },
        {
          "output_type": "display_data",
          "data": {
            "text/plain": [
              "<Figure size 432x288 with 2 Axes>"
            ],
            "image/png": "[encoded data removed]"
          },
          "metadata": {}
        }
      ]
    },
    {
      "cell_type": "markdown",
      "source": [
        "#Save model's vocab and full model"
      ],
      "metadata": {
        "id": "T0tJRkVNJ0u1"
      }
    },
    {
      "cell_type": "code",
      "source": [
        "def save_vocab(vocab, path):\n",
        "    import pickle\n",
        "    output = open(path, 'wb')\n",
        "    pickle.dump(vocab, output)\n",
        "    output.close()\n",
        "\n",
        "save_vocab(TEXT.vocab,\"/content/vocab.pkl\")\n",
        "save_vocab(TAG.vocab,\"/content/vocab_tag.pkl\")\n"
      ],
      "metadata": {
        "id": "CniwRjwifwZX"
      },
      "execution_count": 30,
      "outputs": []
    },
    {
      "cell_type": "code",
      "source": [
        "#Save full model\n",
        "#Previously was saved only the state_dic this model works in case I need to resume training\n",
        "torch.save(model, '/content/tut3-model_conll_full.pt')"
      ],
      "metadata": {
        "id": "bx_3wycqgnOF"
      },
      "execution_count": 31,
      "outputs": []
    },
    {
      "cell_type": "markdown",
      "source": [
        "#Inference"
      ],
      "metadata": {
        "id": "wh9goDtk_X5a"
      }
    },
    {
      "cell_type": "code",
      "source": [
        "import pickle\n",
        "vocab_text_p= \"/content/vocab.pkl\"\n",
        "vocab_tag_p= \"/content/vocab_tag.pkl\"\n",
        "vocabulary_text=pickle.load(open(vocab_text_p, \"rb\"))\n",
        "vocabulary_tag=pickle.load(open(vocab_tag_p, \"rb\"))"
      ],
      "metadata": {
        "id": "GScVSt4KBDvO"
      },
      "execution_count": 32,
      "outputs": []
    },
    {
      "cell_type": "code",
      "source": [
        "vocabulary_text.stoi[\"<unk>\"]"
      ],
      "metadata": {
        "id": "OticyfJZGBTT",
        "colab": {
          "base_uri": "https://localhost:8080/"
        },
        "outputId": "dd2868fa-2db9-4fe4-eda2-1b546ce81b53"
      },
      "execution_count": 33,
      "outputs": [
        {
          "output_type": "execute_result",
          "data": {
            "text/plain": [
              "0"
            ]
          },
          "metadata": {},
          "execution_count": 33
        }
      ]
    },
    {
      "cell_type": "code",
      "source": [
        "#device\n",
        "device = torch.device('cuda' if torch.cuda.is_available() else 'cpu')\n",
        "# padding index\n",
        "text_pad_id= vocabulary_text.stoi[\"<pad>\"]  \n",
        "tag_pad_id= vocabulary_tag.stoi[\"<pad>\"]\n",
        "#model instance\n",
        "model = BiLSTMSEG(INPUT_DIM, \n",
        "                        EMBEDDING_DIM, \n",
        "                        HIDDEN_DIM, \n",
        "                        OUTPUT_DIM, \n",
        "                        N_LAYERS, \n",
        "                        BIDIRECTIONAL, \n",
        "                        DROPOUT, \n",
        "                        PAD_IDX).to(device)\n",
        "def init_weights(m):\n",
        "    for name, param in m.named_parameters():\n",
        "        nn.init.normal_(param.data, mean = 0, std = 0.1)\n",
        "        \n",
        "model.apply(init_weights)\n",
        "optimizer = optim.Adam(model.parameters(), lr=0.001)\n",
        "model.load_state_dict(torch.load('sentence_segmenter.pt'))\n",
        "\n"
      ],
      "metadata": {
        "id": "tdYMtfVR_ZFB",
        "colab": {
          "base_uri": "https://localhost:8080/"
        },
        "outputId": "6ee1c580-3c6a-4b58-82ad-e88592a3356f"
      },
      "execution_count": 44,
      "outputs": [
        {
          "output_type": "execute_result",
          "data": {
            "text/plain": [
              "<All keys matched successfully>"
            ]
          },
          "metadata": {},
          "execution_count": 44
        }
      ]
    },
    {
      "cell_type": "code",
      "source": [
        "def tag_sentence(model, device, sentence, text_field, tag_field):\n",
        "    \n",
        "    model.eval()\n",
        "    sentence3 =sentence3[0].split(\" \")    \n",
        "        \n",
        "    numericalized_tokens = [text_field.vocab.stoi[t] for t in tokens]\n",
        "\n",
        "    unk_idx = text_field.vocab.stoi[text_field.unk_token]\n",
        "    \n",
        "    unks = [t for t, n in zip(tokens, numericalized_tokens) if n == unk_idx]\n",
        "    \n",
        "    token_tensor = torch.LongTensor(numericalized_tokens)\n",
        "    \n",
        "    token_tensor = token_tensor.unsqueeze(-1).to(device)\n",
        "         \n",
        "    predictions = model(token_tensor)\n",
        "    \n",
        "    top_predictions = predictions.argmax(-1)\n",
        "    \n",
        "    predicted_tags = [tag_field.vocab.itos[t.item()] for t in top_predictions]\n",
        "    \n",
        "    return tokens, predicted_tags, unks"
      ],
      "metadata": {
        "id": "U6XOaN_ofbxH"
      },
      "execution_count": 46,
      "outputs": []
    },
    {
      "cell_type": "code",
      "source": [
        "sentence3= [\"The 1921–22 season was Cardiff City's first in the First Division of the Football League following election from the Southern Football League to the Second Division for the 1920–21 season They had won promotion the previous season the first Welsh team to reach the top tier of English football finishing as runners-up behind Birmingham on goal average They reached the fourth round of the FA Cup Fred Stewart remained manager and new signings included full back Tommy Brown and forward Willie Page\"]\n"
      ],
      "metadata": {
        "id": "hZ_4egXjHDgi"
      },
      "execution_count": 47,
      "outputs": []
    },
    {
      "cell_type": "code",
      "source": [
        "sentence3 =sentence3[0].split(\" \")"
      ],
      "metadata": {
        "id": "-iJW-y1uIHkg"
      },
      "execution_count": 48,
      "outputs": []
    },
    {
      "cell_type": "code",
      "source": [
        "tokens, pred_tags, unks = tag_sentence(model, \n",
        "                                       device, \n",
        "                                       sentence3, \n",
        "                                       TEXT, \n",
        "                                       TAG)\n",
        "print(tokens)\n",
        "print(pred_tags)\n",
        "\n"
      ],
      "metadata": {
        "id": "_RYLsY81fhXJ",
        "colab": {
          "base_uri": "https://localhost:8080/"
        },
        "outputId": "1f2ee53f-9b8a-414d-a48d-2160010fe788"
      },
      "execution_count": 49,
      "outputs": [
        {
          "output_type": "stream",
          "name": "stdout",
          "text": [
            "['The', '1921–22', 'season', 'was', 'Cardiff', \"City's\", 'first', 'in', 'the', 'First', 'Division', 'of', 'the', 'Football', 'League', 'following', 'election', 'from', 'the', 'Southern', 'Football', 'League', 'to', 'the', 'Second', 'Division', 'for', 'the', '1920–21', 'season', 'They', 'had', 'won', 'promotion', 'the', 'previous', 'season', 'the', 'first', 'Welsh', 'team', 'to', 'reach', 'the', 'top', 'tier', 'of', 'English', 'football', 'finishing', 'as', 'runners-up', 'behind', 'Birmingham', 'on', 'goal', 'average', 'They', 'reached', 'the', 'fourth', 'round', 'of', 'the', 'FA', 'Cup', 'Fred', 'Stewart', 'remained', 'manager', 'and', 'new', 'signings', 'included', 'full', 'back', 'Tommy', 'Brown', 'and', 'forward', 'Willie', 'Page']\n",
            "['I', 'I', 'I', 'I', 'I', 'I', 'I', 'I', 'I', 'I', 'I', 'I', 'I', 'I', 'I', 'I', 'I', 'I', 'I', 'I', 'I', 'I', 'I', 'I', 'I', 'I', 'I', 'I', 'I', 'P', 'I', 'I', 'I', 'I', 'I', 'I', 'I', 'I', 'I', 'I', 'I', 'I', 'I', 'I', 'I', 'I', 'I', 'I', 'I', 'I', 'I', 'I', 'I', 'I', 'I', 'I', 'P', 'I', 'I', 'I', 'I', 'I', 'I', 'I', 'I', 'I', 'I', 'I', 'I', 'I', 'I', 'I', 'I', 'I', 'I', 'I', 'I', 'I', 'I', 'I', 'P', 'P']\n"
          ]
        }
      ]
    },
    {
      "cell_type": "code",
      "source": [
        "def sent_reconstruc(tokens, pred_tags):\n",
        "  final= []\n",
        "  for i,t in zip(tokens, pred_tags):\n",
        "    if t == \"C\":\n",
        "      final.append(i)\n",
        "      final.append(\",\")\n",
        "      final.append(\" \")\n",
        "    elif t== \"P\":\n",
        "      final.append(i)\n",
        "      final.append(\".\")\n",
        "      final.append(\" \")\n",
        "    else:\n",
        "      final.append(i)\n",
        "      final.append(\" \")\n",
        "  final= \"\".join(final)\n",
        "  return final"
      ],
      "metadata": {
        "colab": {
          "base_uri": "https://localhost:8080/"
        },
        "id": "UbmxA1AeqrNc",
        "outputId": "091f7223-7f9e-4cf8-d1de-1cc2874aed24"
      },
      "execution_count": 50,
      "outputs": [
        {
          "output_type": "stream",
          "name": "stdout",
          "text": [
            "The 1921–22 season was Cardiff City's first in the First Division of the Football League following election from the Southern Football League to the Second Division for the 1920–21 season. They had won promotion the previous season the first Welsh team to reach the top tier of English football finishing as runners-up behind Birmingham on goal average. They reached the fourth round of the FA Cup Fred Stewart remained manager and new signings included full back Tommy Brown and forward Willie. Page. \n"
          ]
        }
      ]
    }
  ]
}